{
 "cells": [
  {
   "cell_type": "code",
   "execution_count": 6,
   "id": "2b9d2846-2d79-436d-8793-ef3e524196cb",
   "metadata": {},
   "outputs": [],
   "source": [
    "import pandas as pd\n",
    "from lightfm import LightFM\n",
    "from lightfm.data import Dataset\n",
    "from lightfm.datasets import fetch_movielens\n",
    "from lightfm.evaluation import auc_score\n",
    "\n",
    "import matplotlib\n",
    "import numpy as np\n",
    "import matplotlib.pyplot as plt"
   ]
  },
  {
   "cell_type": "code",
   "execution_count": 7,
   "id": "180fbf9a-c887-416e-aeb4-66789b4dc0ce",
   "metadata": {},
   "outputs": [],
   "source": [
    "#get data\n",
    "\n",
    "movielens = fetch_movielens()\n",
    "\n",
    "movie_train, movie_test = movielens['train'], movielens['test']\n"
   ]
  },
  {
   "cell_type": "code",
   "execution_count": 17,
   "id": "2868efdc-90a9-4c7d-8844-8e2b70ee36cd",
   "metadata": {},
   "outputs": [],
   "source": [
    "#train models\n",
    "\n",
    "alpha = 1e-05\n",
    "epochs = 30\n",
    "num_components = 30\n",
    "\n",
    "movie_model = LightFM(no_components=num_components,\n",
    "                    loss='warp',\n",
    "                    learning_schedule='adagrad',\n",
    "                    max_sampled=100,\n",
    "                    user_alpha=alpha,\n",
    "                    item_alpha=alpha,\n",
    "                    learning_rate = 0.01)\n"
   ]
  },
  {
   "cell_type": "code",
   "execution_count": 18,
   "id": "2d391e3d-f73c-4d6f-a00a-ce80bed45b0d",
   "metadata": {},
   "outputs": [],
   "source": [
    "# fitting model and testing\n",
    "\n",
    "movie_auc = []\n",
    "\n",
    "for epoch in range(epochs):\n",
    "    movie_model.fit_partial(movie_train, epochs=1)\n",
    "    movie_auc.append(auc_score(movie_model, movie_test, train_interactions=movie_train).mean())\n",
    "    \n",
    "    "
   ]
  },
  {
   "cell_type": "code",
   "execution_count": 25,
   "id": "e9efb527-a29b-492a-b351-8b6858eb6bf0",
   "metadata": {},
   "outputs": [
    {
     "data": {
      "image/png": "[encoded data removed]",
      "text/plain": [
       "<Figure size 432x288 with 1 Axes>"
      ]
     },
     "metadata": {
      "needs_background": "light"
     },
     "output_type": "display_data"
    }
   ],
   "source": [
    "#graph\n",
    "\n",
    "x = np.arange(epochs)\n",
    "\n",
    "plt.plot(x, np.array(movie_auc))\n",
    "plt.xlabel('Epochs')\n",
    "plt.ylabel('AUC')\n",
    "\n",
    "plt.legend(['Movie AUC'], loc = 'upper right')\n",
    "\n",
    "\n",
    "plt.savefig('Hybrid_Model_Movie.png', facecolor = 'w')"
   ]
  },
  {
   "cell_type": "code",
   "execution_count": null,
   "id": "e9e8d23c-9a1f-4ec3-92c9-0c41c15ae9cf",
   "metadata": {},
   "outputs": [],
   "source": []
  }
 ],
 "metadata": {
  "kernelspec": {
   "display_name": "Python 3 (ipykernel)",
   "language": "python",
   "name": "python3"
  },
  "language_info": {
   "codemirror_mode": {
    "name": "ipython",
    "version": 3
   },
   "file_extension": ".py",
   "mimetype": "text/x-python",
   "name": "python",
   "nbconvert_exporter": "python",
   "pygments_lexer": "ipython3",
   "version": "3.8.12"
  }
 },
 "nbformat": 4,
 "nbformat_minor": 5
}
