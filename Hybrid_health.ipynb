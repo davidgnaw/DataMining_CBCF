{
 "cells": [
  {
   "cell_type": "code",
   "execution_count": 1,
   "id": "48096cf1-8e85-45b5-8d9a-45701fc43c29",
   "metadata": {},
   "outputs": [
    {
     "name": "stderr",
     "output_type": "stream",
     "text": [
      "/Users/davidwang/opt/anaconda3/lib/python3.8/site-packages/lightfm/_lightfm_fast.py:9: UserWarning: LightFM was compiled without OpenMP support. Only a single thread will be used.\n",
      "  warnings.warn(\n"
     ]
    }
   ],
   "source": [
    "import pandas as pd\n",
    "from lightfm import LightFM\n",
    "from lightfm.data import Dataset\n",
    "from lightfm import cross_validation\n",
    "from lightfm.evaluation import auc_score\n",
    "\n",
    "import matplotlib\n",
    "import numpy as np\n",
    "import matplotlib.pyplot as plt"
   ]
  },
  {
   "cell_type": "code",
   "execution_count": 2,
   "id": "1d2d835d-5eaf-4c93-8272-8a9fa5baefc1",
   "metadata": {},
   "outputs": [
    {
     "name": "stdout",
     "output_type": "stream",
     "text": [
      "ratings\n",
      "<bound method NDFrame.head of                                     USER_ID  DOCUMENT_ID  RATE\n",
      "50     C734A1D1-7592-4E5D-BB37-467E0362E61B        78311     3\n",
      "51     C734A1D1-7592-4E5D-BB37-467E0362E61B        50280     1\n",
      "52     C734A1D1-7592-4E5D-BB37-467E0362E61B        73192     1\n",
      "53     C734A1D1-7592-4E5D-BB37-467E0362E61B        68331     1\n",
      "54     C734A1D1-7592-4E5D-BB37-467E0362E61B        55915     1\n",
      "...                                     ...          ...   ...\n",
      "49996  295EE9CA-CFE6-436B-B394-B68E69C5604C         7601     4\n",
      "49997  295EE9CA-CFE6-436B-B394-B68E69C5604C        57780     4\n",
      "49998  295EE9CA-CFE6-436B-B394-B68E69C5604C         2490     5\n",
      "49999  295EE9CA-CFE6-436B-B394-B68E69C5604C        32192     5\n",
      "50000  295EE9CA-CFE6-436B-B394-B68E69C5604C        28103     2\n",
      "\n",
      "[49951 rows x 3 columns]>\n",
      "documents\n",
      "<bound method NDFrame.head of        DOCUMENT_ID                                         {KEYWORDS}\n",
      "0                0       [ Human disease HIV immunodeficiency virus ]\n",
      "1                1       [ Human disease HIV immunodeficiency virus ]\n",
      "2                2       [ Human disease HIV immunodeficiency virus ]\n",
      "3                3       [ Human disease HIV immunodeficiency virus ]\n",
      "4                4       [ Human disease HIV immunodeficiency virus ]\n",
      "...            ...                                                ...\n",
      "79645        79644  [ larger explosive knife bathtub exposure hous...\n",
      "79646        79647  [ dagger glass subway jumping intentional tree...\n",
      "79647        79646  [ high tap subway guns exposure aircraft pool ...\n",
      "79648        79649  [ explosive bathtub guns jumping selfharm mach...\n",
      "79649        79648  [ means unspecified blunt front place paintbal...\n",
      "\n",
      "[79650 rows x 2 columns]>\n"
     ]
    }
   ],
   "source": [
    "# read in ratings.txt and documents.txt into pandas\n",
    "\n",
    "# ratings dataframe\n",
    "rating_raw = pd.read_csv('fairgrecs-dataset/ratings.txt', sep = '\\t', header = [0])\n",
    "\n",
    "rating_raw = rating_raw.truncate(50, 50000) #matching with other datasets\n",
    "\n",
    "# user features dataframe (features of keyword)\n",
    "doc_raw = pd.read_csv('fairgrecs-dataset/documents.txt', sep = '\\t', header = [0])\n",
    "\n",
    "\n",
    "# with open('fairgrecs-dataset/ratings.txt') as f:\n",
    "#     ratings_lines = f.readlines()\n",
    "# f.close()\n",
    "\n",
    "# with open('fairgrecs-dataset/documents.txt') as f:\n",
    "#     doc_lines = f.readlines()\n",
    "# f.close()\n",
    "\n",
    "print(\"ratings\")\n",
    "print(rating_raw.head)\n",
    "print(\"documents\")\n",
    "print(doc_raw.head)"
   ]
  },
  {
   "cell_type": "code",
   "execution_count": 3,
   "id": "5b5b20fa-e2ba-4cb3-9068-0071f5a249c3",
   "metadata": {},
   "outputs": [],
   "source": [
    "# passing in users and items\n",
    "users = rating_raw['USER_ID'].values.flatten()\n",
    "items = rating_raw['DOCUMENT_ID'].values.flatten()\n",
    "ratings = rating_raw['RATE'].values.flatten()\n",
    "\n",
    "# passing in user features \n",
    "feature_name = doc_raw['{KEYWORDS}'].values.flatten()\n",
    "feature_value = doc_raw['DOCUMENT_ID'].values.flatten()"
   ]
  },
  {
   "cell_type": "code",
   "execution_count": 4,
   "id": "7073a751-6567-45cb-b6e0-27424687e774",
   "metadata": {},
   "outputs": [],
   "source": [
    "dataset = Dataset()\n",
    "dataset.fit(users, items)"
   ]
  },
  {
   "cell_type": "code",
   "execution_count": 5,
   "id": "2890247f-4e49-4748-96f8-9aa4d2085c1e",
   "metadata": {},
   "outputs": [],
   "source": [
    "dataset.fit_partial(items = feature_value, item_features = feature_name)"
   ]
  },
  {
   "cell_type": "code",
   "execution_count": 6,
   "id": "01f8d70b-ca4f-43cc-b253-14f7a71652d4",
   "metadata": {},
   "outputs": [],
   "source": [
    "# build in interactions and weights\n",
    "(interactions, weights) = dataset.build_interactions([(x[0], x[1], x[2]) for x in rating_raw.values ])"
   ]
  },
  {
   "cell_type": "code",
   "execution_count": 7,
   "id": "e5c767a8-bebc-4169-9abd-a87dbb52ecc6",
   "metadata": {},
   "outputs": [],
   "source": [
    "# cross_validate\n",
    "\n",
    "train, test = cross_validation.random_train_test_split(interactions, test_percentage=0.25)\n",
    "train_weights, test_weights = cross_validation.random_train_test_split(weights, test_percentage=0.25)\n"
   ]
  },
  {
   "cell_type": "code",
   "execution_count": 20,
   "id": "df8ffeca-3fb7-4605-a6ad-1b5d2889bb9d",
   "metadata": {},
   "outputs": [],
   "source": [
    "# model\n",
    "\n",
    "alpha = 1e-05\n",
    "epochs = 30\n",
    "num_components = 30\n",
    "\n",
    "health_model = LightFM(no_components=num_components,\n",
    "                    loss='warp',\n",
    "                    learning_schedule='adagrad',\n",
    "                    max_sampled=100,\n",
    "                    user_alpha=alpha,\n",
    "                    item_alpha=alpha,\n",
    "                    learning_rate = 0.01 ) # had to decrease learning rate to increase accuracy per epoch"
   ]
  },
  {
   "cell_type": "code",
   "execution_count": 21,
   "id": "fee53452-f1de-4b56-993e-9a329b40871a",
   "metadata": {},
   "outputs": [],
   "source": [
    "health_auc = []\n",
    "\n",
    "for epoch in range(epochs):\n",
    "    health_model.fit_partial(train, epochs=1)\n",
    "    health_auc.append(auc_score(health_model, test, train_interactions=train).mean())\n",
    "    "
   ]
  },
  {
   "cell_type": "code",
   "execution_count": 36,
   "id": "5686241c-010c-400c-8e41-e0ddeb9e9a5f",
   "metadata": {},
   "outputs": [
    {
     "data": {
      "image/png": "[encoded data removed]",
      "text/plain": [
       "<Figure size 432x288 with 1 Axes>"
      ]
     },
     "metadata": {
      "needs_background": "light"
     },
     "output_type": "display_data"
    }
   ],
   "source": [
    "#graph\n",
    "\n",
    "x = np.arange(epochs)\n",
    "\n",
    "plt.plot(x, np.array(health_auc))\n",
    "plt.xlabel('Epochs')\n",
    "plt.ylabel('AUC')\n",
    "\n",
    "plt.legend(['Health AUC'], loc = 'upper right')\n",
    "\n",
    "plt.savefig('Hybrid_Model_Health.png', facecolor = 'w')"
   ]
  },
  {
   "cell_type": "code",
   "execution_count": null,
   "id": "310d5548-c5ea-4b3f-8f04-aae413a2f114",
   "metadata": {},
   "outputs": [],
   "source": []
  }
 ],
 "metadata": {
  "kernelspec": {
   "display_name": "Python 3 (ipykernel)",
   "language": "python",
   "name": "python3"
  },
  "language_info": {
   "codemirror_mode": {
    "name": "ipython",
    "version": 3
   },
   "file_extension": ".py",
   "mimetype": "text/x-python",
   "name": "python",
   "nbconvert_exporter": "python",
   "pygments_lexer": "ipython3",
   "version": "3.8.12"
  }
 },
 "nbformat": 4,
 "nbformat_minor": 5
}
