{
 "cells": [
  {
   "cell_type": "code",
   "execution_count": 1,
   "id": "4ba6e1b9-8c96-465e-94bf-2bc411c73b0c",
   "metadata": {},
   "outputs": [],
   "source": [
    "import pandas as pd\n",
    "from surprise import Dataset\n",
    "from surprise import Reader\n",
    "from surprise import SVD\n",
    "from surprise.model_selection import GridSearchCV\n",
    "from surprise.model_selection import split\n",
    "from surprise.prediction_algorithms.knns import KNNBasic\n",
    "from surprise.prediction_algorithms.co_clustering import CoClustering\n",
    "from surprise import accuracy\n",
    "from surprise.model_selection import cross_validate\n",
    "from sklearn import metrics\n",
    "import matplotlib\n",
    "import numpy as np\n",
    "import matplotlib.pyplot as plt"
   ]
  },
  {
   "cell_type": "code",
   "execution_count": 2,
   "id": "e08048e9-ef72-46a3-9d90-5f031f7bc637",
   "metadata": {},
   "outputs": [],
   "source": [
    "# implementing user based collaborative filtering under SVD\n",
    "# read in ratings.txt and documents.txt into pandas\n",
    "\n",
    "# ratings dataframe\n",
    "rating_raw = pd.read_csv('fairgrecs-dataset/ratings.txt', sep = '\\t', header = [0])\n",
    "\n",
    "rating_raw = rating_raw.truncate(50, 50000) #matching with other datasets\n",
    "\n",
    "# user features dataframe (features of keyword)\n",
    "doc_raw = pd.read_csv('fairgrecs-dataset/documents.txt', sep = '\\t', header = [0])\n",
    "\n",
    "\n",
    "\n",
    "# passing in users and items\n",
    "users = rating_raw['USER_ID'].values.flatten()\n",
    "items = rating_raw['DOCUMENT_ID'].values.flatten()\n",
    "ratings = rating_raw['RATE'].values.flatten()\n",
    "\n",
    "# passing in user features \n",
    "feature_name = doc_raw['{KEYWORDS}'].values.flatten()\n",
    "feature_value = doc_raw['DOCUMENT_ID'].values.flatten()"
   ]
  },
  {
   "cell_type": "code",
   "execution_count": 3,
   "id": "69ca6513-e650-41b5-99dc-04a59f3d75ee",
   "metadata": {},
   "outputs": [],
   "source": [
    "reader = Reader(rating_scale = (1,5))\n",
    "\n",
    "data = Dataset.load_from_df(rating_raw[['USER_ID', 'DOCUMENT_ID', 'RATE']], reader)\n"
   ]
  },
  {
   "cell_type": "code",
   "execution_count": 4,
   "id": "6064827b-59cb-4593-8b4e-f4ce5ab21d57",
   "metadata": {},
   "outputs": [],
   "source": [
    "trainset, testset = split.train_test_split(data, test_size=0.25)"
   ]
  },
  {
   "cell_type": "code",
   "execution_count": 6,
   "id": "1539a1d0-2ef5-4d00-bf5a-0e8703dc6ba9",
   "metadata": {},
   "outputs": [
    {
     "name": "stderr",
     "output_type": "stream",
     "text": [
      "/var/folders/xw/gjkqcy4x1gqgcyvc45ys8srw0000gn/T/ipykernel_46633/572144377.py:11: DeprecationWarning: `np.int` is a deprecated alias for the builtin `int`. To silence this warning, use `int` by itself. Doing this will not modify any behavior and is safe. When replacing `np.int`, you may wish to use e.g. `np.int64` or `np.int32` to specify the precision. If you wish to review your current use, check the release note link for additional information.\n",
      "Deprecated in NumPy 1.20; for more details and guidance: https://numpy.org/devdocs/release/1.20.0-notes.html#deprecations\n",
      "  algo = algo_coclustering.fit(trainset)\n",
      "/var/folders/xw/gjkqcy4x1gqgcyvc45ys8srw0000gn/T/ipykernel_46633/572144377.py:11: DeprecationWarning: `np.int` is a deprecated alias for the builtin `int`. To silence this warning, use `int` by itself. Doing this will not modify any behavior and is safe. When replacing `np.int`, you may wish to use e.g. `np.int64` or `np.int32` to specify the precision. If you wish to review your current use, check the release note link for additional information.\n",
      "Deprecated in NumPy 1.20; for more details and guidance: https://numpy.org/devdocs/release/1.20.0-notes.html#deprecations\n",
      "  algo = algo_coclustering.fit(trainset)\n",
      "/var/folders/xw/gjkqcy4x1gqgcyvc45ys8srw0000gn/T/ipykernel_46633/572144377.py:11: DeprecationWarning: `np.int` is a deprecated alias for the builtin `int`. To silence this warning, use `int` by itself. Doing this will not modify any behavior and is safe. When replacing `np.int`, you may wish to use e.g. `np.int64` or `np.int32` to specify the precision. If you wish to review your current use, check the release note link for additional information.\n",
      "Deprecated in NumPy 1.20; for more details and guidance: https://numpy.org/devdocs/release/1.20.0-notes.html#deprecations\n",
      "  algo = algo_coclustering.fit(trainset)\n",
      "/var/folders/xw/gjkqcy4x1gqgcyvc45ys8srw0000gn/T/ipykernel_46633/572144377.py:11: DeprecationWarning: `np.int` is a deprecated alias for the builtin `int`. To silence this warning, use `int` by itself. Doing this will not modify any behavior and is safe. When replacing `np.int`, you may wish to use e.g. `np.int64` or `np.int32` to specify the precision. If you wish to review your current use, check the release note link for additional information.\n",
      "Deprecated in NumPy 1.20; for more details and guidance: https://numpy.org/devdocs/release/1.20.0-notes.html#deprecations\n",
      "  algo = algo_coclustering.fit(trainset)\n",
      "/var/folders/xw/gjkqcy4x1gqgcyvc45ys8srw0000gn/T/ipykernel_46633/572144377.py:11: DeprecationWarning: `np.int` is a deprecated alias for the builtin `int`. To silence this warning, use `int` by itself. Doing this will not modify any behavior and is safe. When replacing `np.int`, you may wish to use e.g. `np.int64` or `np.int32` to specify the precision. If you wish to review your current use, check the release note link for additional information.\n",
      "Deprecated in NumPy 1.20; for more details and guidance: https://numpy.org/devdocs/release/1.20.0-notes.html#deprecations\n",
      "  algo = algo_coclustering.fit(trainset)\n",
      "/var/folders/xw/gjkqcy4x1gqgcyvc45ys8srw0000gn/T/ipykernel_46633/572144377.py:11: DeprecationWarning: `np.int` is a deprecated alias for the builtin `int`. To silence this warning, use `int` by itself. Doing this will not modify any behavior and is safe. When replacing `np.int`, you may wish to use e.g. `np.int64` or `np.int32` to specify the precision. If you wish to review your current use, check the release note link for additional information.\n",
      "Deprecated in NumPy 1.20; for more details and guidance: https://numpy.org/devdocs/release/1.20.0-notes.html#deprecations\n",
      "  algo = algo_coclustering.fit(trainset)\n",
      "/var/folders/xw/gjkqcy4x1gqgcyvc45ys8srw0000gn/T/ipykernel_46633/572144377.py:11: DeprecationWarning: `np.int` is a deprecated alias for the builtin `int`. To silence this warning, use `int` by itself. Doing this will not modify any behavior and is safe. When replacing `np.int`, you may wish to use e.g. `np.int64` or `np.int32` to specify the precision. If you wish to review your current use, check the release note link for additional information.\n",
      "Deprecated in NumPy 1.20; for more details and guidance: https://numpy.org/devdocs/release/1.20.0-notes.html#deprecations\n",
      "  algo = algo_coclustering.fit(trainset)\n",
      "/var/folders/xw/gjkqcy4x1gqgcyvc45ys8srw0000gn/T/ipykernel_46633/572144377.py:11: DeprecationWarning: `np.int` is a deprecated alias for the builtin `int`. To silence this warning, use `int` by itself. Doing this will not modify any behavior and is safe. When replacing `np.int`, you may wish to use e.g. `np.int64` or `np.int32` to specify the precision. If you wish to review your current use, check the release note link for additional information.\n",
      "Deprecated in NumPy 1.20; for more details and guidance: https://numpy.org/devdocs/release/1.20.0-notes.html#deprecations\n",
      "  algo = algo_coclustering.fit(trainset)\n",
      "/var/folders/xw/gjkqcy4x1gqgcyvc45ys8srw0000gn/T/ipykernel_46633/572144377.py:11: DeprecationWarning: `np.int` is a deprecated alias for the builtin `int`. To silence this warning, use `int` by itself. Doing this will not modify any behavior and is safe. When replacing `np.int`, you may wish to use e.g. `np.int64` or `np.int32` to specify the precision. If you wish to review your current use, check the release note link for additional information.\n",
      "Deprecated in NumPy 1.20; for more details and guidance: https://numpy.org/devdocs/release/1.20.0-notes.html#deprecations\n",
      "  algo = algo_coclustering.fit(trainset)\n",
      "/var/folders/xw/gjkqcy4x1gqgcyvc45ys8srw0000gn/T/ipykernel_46633/572144377.py:11: DeprecationWarning: `np.int` is a deprecated alias for the builtin `int`. To silence this warning, use `int` by itself. Doing this will not modify any behavior and is safe. When replacing `np.int`, you may wish to use e.g. `np.int64` or `np.int32` to specify the precision. If you wish to review your current use, check the release note link for additional information.\n",
      "Deprecated in NumPy 1.20; for more details and guidance: https://numpy.org/devdocs/release/1.20.0-notes.html#deprecations\n",
      "  algo = algo_coclustering.fit(trainset)\n",
      "/var/folders/xw/gjkqcy4x1gqgcyvc45ys8srw0000gn/T/ipykernel_46633/572144377.py:11: DeprecationWarning: `np.int` is a deprecated alias for the builtin `int`. To silence this warning, use `int` by itself. Doing this will not modify any behavior and is safe. When replacing `np.int`, you may wish to use e.g. `np.int64` or `np.int32` to specify the precision. If you wish to review your current use, check the release note link for additional information.\n",
      "Deprecated in NumPy 1.20; for more details and guidance: https://numpy.org/devdocs/release/1.20.0-notes.html#deprecations\n",
      "  algo = algo_coclustering.fit(trainset)\n",
      "/var/folders/xw/gjkqcy4x1gqgcyvc45ys8srw0000gn/T/ipykernel_46633/572144377.py:11: DeprecationWarning: `np.int` is a deprecated alias for the builtin `int`. To silence this warning, use `int` by itself. Doing this will not modify any behavior and is safe. When replacing `np.int`, you may wish to use e.g. `np.int64` or `np.int32` to specify the precision. If you wish to review your current use, check the release note link for additional information.\n",
      "Deprecated in NumPy 1.20; for more details and guidance: https://numpy.org/devdocs/release/1.20.0-notes.html#deprecations\n",
      "  algo = algo_coclustering.fit(trainset)\n",
      "/var/folders/xw/gjkqcy4x1gqgcyvc45ys8srw0000gn/T/ipykernel_46633/572144377.py:11: DeprecationWarning: `np.int` is a deprecated alias for the builtin `int`. To silence this warning, use `int` by itself. Doing this will not modify any behavior and is safe. When replacing `np.int`, you may wish to use e.g. `np.int64` or `np.int32` to specify the precision. If you wish to review your current use, check the release note link for additional information.\n",
      "Deprecated in NumPy 1.20; for more details and guidance: https://numpy.org/devdocs/release/1.20.0-notes.html#deprecations\n",
      "  algo = algo_coclustering.fit(trainset)\n",
      "/var/folders/xw/gjkqcy4x1gqgcyvc45ys8srw0000gn/T/ipykernel_46633/572144377.py:11: DeprecationWarning: `np.int` is a deprecated alias for the builtin `int`. To silence this warning, use `int` by itself. Doing this will not modify any behavior and is safe. When replacing `np.int`, you may wish to use e.g. `np.int64` or `np.int32` to specify the precision. If you wish to review your current use, check the release note link for additional information.\n",
      "Deprecated in NumPy 1.20; for more details and guidance: https://numpy.org/devdocs/release/1.20.0-notes.html#deprecations\n",
      "  algo = algo_coclustering.fit(trainset)\n",
      "/var/folders/xw/gjkqcy4x1gqgcyvc45ys8srw0000gn/T/ipykernel_46633/572144377.py:11: DeprecationWarning: `np.int` is a deprecated alias for the builtin `int`. To silence this warning, use `int` by itself. Doing this will not modify any behavior and is safe. When replacing `np.int`, you may wish to use e.g. `np.int64` or `np.int32` to specify the precision. If you wish to review your current use, check the release note link for additional information.\n",
      "Deprecated in NumPy 1.20; for more details and guidance: https://numpy.org/devdocs/release/1.20.0-notes.html#deprecations\n",
      "  algo = algo_coclustering.fit(trainset)\n",
      "/var/folders/xw/gjkqcy4x1gqgcyvc45ys8srw0000gn/T/ipykernel_46633/572144377.py:11: DeprecationWarning: `np.int` is a deprecated alias for the builtin `int`. To silence this warning, use `int` by itself. Doing this will not modify any behavior and is safe. When replacing `np.int`, you may wish to use e.g. `np.int64` or `np.int32` to specify the precision. If you wish to review your current use, check the release note link for additional information.\n",
      "Deprecated in NumPy 1.20; for more details and guidance: https://numpy.org/devdocs/release/1.20.0-notes.html#deprecations\n",
      "  algo = algo_coclustering.fit(trainset)\n",
      "/var/folders/xw/gjkqcy4x1gqgcyvc45ys8srw0000gn/T/ipykernel_46633/572144377.py:11: DeprecationWarning: `np.int` is a deprecated alias for the builtin `int`. To silence this warning, use `int` by itself. Doing this will not modify any behavior and is safe. When replacing `np.int`, you may wish to use e.g. `np.int64` or `np.int32` to specify the precision. If you wish to review your current use, check the release note link for additional information.\n",
      "Deprecated in NumPy 1.20; for more details and guidance: https://numpy.org/devdocs/release/1.20.0-notes.html#deprecations\n",
      "  algo = algo_coclustering.fit(trainset)\n",
      "/var/folders/xw/gjkqcy4x1gqgcyvc45ys8srw0000gn/T/ipykernel_46633/572144377.py:11: DeprecationWarning: `np.int` is a deprecated alias for the builtin `int`. To silence this warning, use `int` by itself. Doing this will not modify any behavior and is safe. When replacing `np.int`, you may wish to use e.g. `np.int64` or `np.int32` to specify the precision. If you wish to review your current use, check the release note link for additional information.\n",
      "Deprecated in NumPy 1.20; for more details and guidance: https://numpy.org/devdocs/release/1.20.0-notes.html#deprecations\n",
      "  algo = algo_coclustering.fit(trainset)\n",
      "/var/folders/xw/gjkqcy4x1gqgcyvc45ys8srw0000gn/T/ipykernel_46633/572144377.py:11: DeprecationWarning: `np.int` is a deprecated alias for the builtin `int`. To silence this warning, use `int` by itself. Doing this will not modify any behavior and is safe. When replacing `np.int`, you may wish to use e.g. `np.int64` or `np.int32` to specify the precision. If you wish to review your current use, check the release note link for additional information.\n",
      "Deprecated in NumPy 1.20; for more details and guidance: https://numpy.org/devdocs/release/1.20.0-notes.html#deprecations\n",
      "  algo = algo_coclustering.fit(trainset)\n",
      "/var/folders/xw/gjkqcy4x1gqgcyvc45ys8srw0000gn/T/ipykernel_46633/572144377.py:11: DeprecationWarning: `np.int` is a deprecated alias for the builtin `int`. To silence this warning, use `int` by itself. Doing this will not modify any behavior and is safe. When replacing `np.int`, you may wish to use e.g. `np.int64` or `np.int32` to specify the precision. If you wish to review your current use, check the release note link for additional information.\n",
      "Deprecated in NumPy 1.20; for more details and guidance: https://numpy.org/devdocs/release/1.20.0-notes.html#deprecations\n",
      "  algo = algo_coclustering.fit(trainset)\n",
      "/var/folders/xw/gjkqcy4x1gqgcyvc45ys8srw0000gn/T/ipykernel_46633/572144377.py:11: DeprecationWarning: `np.int` is a deprecated alias for the builtin `int`. To silence this warning, use `int` by itself. Doing this will not modify any behavior and is safe. When replacing `np.int`, you may wish to use e.g. `np.int64` or `np.int32` to specify the precision. If you wish to review your current use, check the release note link for additional information.\n",
      "Deprecated in NumPy 1.20; for more details and guidance: https://numpy.org/devdocs/release/1.20.0-notes.html#deprecations\n",
      "  algo = algo_coclustering.fit(trainset)\n",
      "/var/folders/xw/gjkqcy4x1gqgcyvc45ys8srw0000gn/T/ipykernel_46633/572144377.py:11: DeprecationWarning: `np.int` is a deprecated alias for the builtin `int`. To silence this warning, use `int` by itself. Doing this will not modify any behavior and is safe. When replacing `np.int`, you may wish to use e.g. `np.int64` or `np.int32` to specify the precision. If you wish to review your current use, check the release note link for additional information.\n",
      "Deprecated in NumPy 1.20; for more details and guidance: https://numpy.org/devdocs/release/1.20.0-notes.html#deprecations\n",
      "  algo = algo_coclustering.fit(trainset)\n",
      "/var/folders/xw/gjkqcy4x1gqgcyvc45ys8srw0000gn/T/ipykernel_46633/572144377.py:11: DeprecationWarning: `np.int` is a deprecated alias for the builtin `int`. To silence this warning, use `int` by itself. Doing this will not modify any behavior and is safe. When replacing `np.int`, you may wish to use e.g. `np.int64` or `np.int32` to specify the precision. If you wish to review your current use, check the release note link for additional information.\n",
      "Deprecated in NumPy 1.20; for more details and guidance: https://numpy.org/devdocs/release/1.20.0-notes.html#deprecations\n",
      "  algo = algo_coclustering.fit(trainset)\n",
      "/var/folders/xw/gjkqcy4x1gqgcyvc45ys8srw0000gn/T/ipykernel_46633/572144377.py:11: DeprecationWarning: `np.int` is a deprecated alias for the builtin `int`. To silence this warning, use `int` by itself. Doing this will not modify any behavior and is safe. When replacing `np.int`, you may wish to use e.g. `np.int64` or `np.int32` to specify the precision. If you wish to review your current use, check the release note link for additional information.\n",
      "Deprecated in NumPy 1.20; for more details and guidance: https://numpy.org/devdocs/release/1.20.0-notes.html#deprecations\n",
      "  algo = algo_coclustering.fit(trainset)\n",
      "/var/folders/xw/gjkqcy4x1gqgcyvc45ys8srw0000gn/T/ipykernel_46633/572144377.py:11: DeprecationWarning: `np.int` is a deprecated alias for the builtin `int`. To silence this warning, use `int` by itself. Doing this will not modify any behavior and is safe. When replacing `np.int`, you may wish to use e.g. `np.int64` or `np.int32` to specify the precision. If you wish to review your current use, check the release note link for additional information.\n",
      "Deprecated in NumPy 1.20; for more details and guidance: https://numpy.org/devdocs/release/1.20.0-notes.html#deprecations\n",
      "  algo = algo_coclustering.fit(trainset)\n",
      "/var/folders/xw/gjkqcy4x1gqgcyvc45ys8srw0000gn/T/ipykernel_46633/572144377.py:11: DeprecationWarning: `np.int` is a deprecated alias for the builtin `int`. To silence this warning, use `int` by itself. Doing this will not modify any behavior and is safe. When replacing `np.int`, you may wish to use e.g. `np.int64` or `np.int32` to specify the precision. If you wish to review your current use, check the release note link for additional information.\n",
      "Deprecated in NumPy 1.20; for more details and guidance: https://numpy.org/devdocs/release/1.20.0-notes.html#deprecations\n",
      "  algo = algo_coclustering.fit(trainset)\n",
      "/var/folders/xw/gjkqcy4x1gqgcyvc45ys8srw0000gn/T/ipykernel_46633/572144377.py:11: DeprecationWarning: `np.int` is a deprecated alias for the builtin `int`. To silence this warning, use `int` by itself. Doing this will not modify any behavior and is safe. When replacing `np.int`, you may wish to use e.g. `np.int64` or `np.int32` to specify the precision. If you wish to review your current use, check the release note link for additional information.\n",
      "Deprecated in NumPy 1.20; for more details and guidance: https://numpy.org/devdocs/release/1.20.0-notes.html#deprecations\n",
      "  algo = algo_coclustering.fit(trainset)\n",
      "/var/folders/xw/gjkqcy4x1gqgcyvc45ys8srw0000gn/T/ipykernel_46633/572144377.py:11: DeprecationWarning: `np.int` is a deprecated alias for the builtin `int`. To silence this warning, use `int` by itself. Doing this will not modify any behavior and is safe. When replacing `np.int`, you may wish to use e.g. `np.int64` or `np.int32` to specify the precision. If you wish to review your current use, check the release note link for additional information.\n",
      "Deprecated in NumPy 1.20; for more details and guidance: https://numpy.org/devdocs/release/1.20.0-notes.html#deprecations\n",
      "  algo = algo_coclustering.fit(trainset)\n",
      "/var/folders/xw/gjkqcy4x1gqgcyvc45ys8srw0000gn/T/ipykernel_46633/572144377.py:11: DeprecationWarning: `np.int` is a deprecated alias for the builtin `int`. To silence this warning, use `int` by itself. Doing this will not modify any behavior and is safe. When replacing `np.int`, you may wish to use e.g. `np.int64` or `np.int32` to specify the precision. If you wish to review your current use, check the release note link for additional information.\n",
      "Deprecated in NumPy 1.20; for more details and guidance: https://numpy.org/devdocs/release/1.20.0-notes.html#deprecations\n",
      "  algo = algo_coclustering.fit(trainset)\n"
     ]
    }
   ],
   "source": [
    "AUC_scores = []\n",
    "rmse_scores = []\n",
    "\n",
    "total_coclusters = 30\n",
    "\n",
    "\n",
    "for cocluster in range(1, total_coclusters ): #takes a while to run\n",
    "    \n",
    "    \n",
    "    algo_coclustering = CoClustering(n_cltr_i = cocluster, n_cltr_u = cocluster)\n",
    "    algo = algo_coclustering.fit(trainset)\n",
    "    \n",
    "    #test model\n",
    "    predictions = algo.test(testset)    \n",
    "    #cross validate\n",
    "\n",
    "    results = cross_validate(\n",
    "        algo = algo, data = data, measures=['RMSE'], \n",
    "        cv=5, return_train_measures=True\n",
    "        )\n",
    "    \n",
    "    #get actual (index 2 of predictions) and estimates (index 3 of predictions)\n",
    "\n",
    "    actual  = []\n",
    "    predicts = []\n",
    "\n",
    "    for i in range(len(predictions)):\n",
    "        actual.append(predictions[i][2])\n",
    "        predicts.append(predictions[i][3])\n",
    "\n",
    "    fpr, tpr, thresholds = metrics.roc_curve(actual, predicts, pos_label=2)\n",
    "    AUC_scores.append(metrics.auc(fpr, tpr))\n",
    "\n",
    "    rmse_scores.append(results['test_rmse'].mean())"
   ]
  },
  {
   "cell_type": "code",
   "execution_count": 9,
   "id": "9a5ea38b-57cc-4157-a09d-f3f784991a1b",
   "metadata": {},
   "outputs": [
    {
     "data": {
      "image/png": "[encoded data removed]",
      "text/plain": [
       "<Figure size 432x288 with 1 Axes>"
      ]
     },
     "metadata": {
      "needs_background": "light"
     },
     "output_type": "display_data"
    }
   ],
   "source": [
    "# Graph\n",
    "x = np.arange(total_coclusters - 1)\n",
    "\n",
    "plt.plot(x, np.array(AUC_scores))\n",
    "plt.xlabel('Co-Clusters')\n",
    "plt.ylabel('AUC')\n",
    "\n",
    "plt.legend(['Health AUC'], loc = 'upper right')\n",
    "\n",
    "plt.savefig('CF_Model_cocluster_Health.png', facecolor = 'w')"
   ]
  },
  {
   "cell_type": "code",
   "execution_count": null,
   "id": "5ec6c828-093c-4242-8371-98cb1a5f0e85",
   "metadata": {},
   "outputs": [],
   "source": []
  }
 ],
 "metadata": {
  "kernelspec": {
   "display_name": "Python 3 (ipykernel)",
   "language": "python",
   "name": "python3"
  },
  "language_info": {
   "codemirror_mode": {
    "name": "ipython",
    "version": 3
   },
   "file_extension": ".py",
   "mimetype": "text/x-python",
   "name": "python",
   "nbconvert_exporter": "python",
   "pygments_lexer": "ipython3",
   "version": "3.8.12"
  }
 },
 "nbformat": 4,
 "nbformat_minor": 5
}
