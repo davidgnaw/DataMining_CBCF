{
 "cells": [
  {
   "cell_type": "code",
   "execution_count": 2,
   "id": "f850745f-d455-49b8-a65a-4851a798a738",
   "metadata": {},
   "outputs": [
    {
     "name": "stderr",
     "output_type": "stream",
     "text": [
      "/Users/davidwang/opt/anaconda3/lib/python3.8/site-packages/lightfm/_lightfm_fast.py:9: UserWarning: LightFM was compiled without OpenMP support. Only a single thread will be used.\n",
      "  warnings.warn(\n"
     ]
    }
   ],
   "source": [
    "import pandas as pd\n",
    "from lightfm import LightFM\n",
    "from lightfm.data import Dataset\n",
    "from lightfm.datasets import fetch_stackexchange\n",
    "from lightfm.evaluation import auc_score\n",
    "\n",
    "import matplotlib\n",
    "import numpy as np\n",
    "import matplotlib.pyplot as plt"
   ]
  },
  {
   "cell_type": "code",
   "execution_count": 3,
   "id": "f022d416-36e5-4bc9-a411-c379c3ce5c55",
   "metadata": {},
   "outputs": [],
   "source": [
    "stackexch = fetch_stackexchange('crossvalidated')\n",
    "\n",
    "stackexch_train, stackexch_test = stackexch['train'], stackexch['test']\n"
   ]
  },
  {
   "cell_type": "code",
   "execution_count": 13,
   "id": "d97aba8a-15da-4b59-a150-96addcfa83d8",
   "metadata": {},
   "outputs": [],
   "source": [
    "alpha = 1e-05\n",
    "epochs = 30\n",
    "num_components = 30\n",
    "\n",
    "stack_model = LightFM(no_components=num_components,\n",
    "                    loss='warp',\n",
    "                    learning_schedule='adagrad',\n",
    "                    max_sampled=100,\n",
    "                    user_alpha=alpha,\n",
    "                    item_alpha=alpha,\n",
    "                    learning_rate = 0.01)\n",
    "\n"
   ]
  },
  {
   "cell_type": "code",
   "execution_count": 14,
   "id": "90d735a4-c095-4a1e-84b9-41b223f59073",
   "metadata": {},
   "outputs": [],
   "source": [
    "stack_auc = []\n",
    "\n",
    "for epoch in range(epochs):\n",
    "    stack_model.fit_partial(stackexch_train, epochs = 1)\n",
    "    stack_auc.append(auc_score(stack_model, stackexch_test, train_interactions = stackexch_train).mean())\n",
    "                               \n",
    "                               "
   ]
  },
  {
   "cell_type": "code",
   "execution_count": 19,
   "id": "3c914fc0-1213-4af5-b055-693f27037bac",
   "metadata": {},
   "outputs": [
    {
     "data": {
      "image/png": "[encoded data removed]",
      "text/plain": [
       "<Figure size 432x288 with 1 Axes>"
      ]
     },
     "metadata": {
      "needs_background": "light"
     },
     "output_type": "display_data"
    }
   ],
   "source": [
    "#graph\n",
    "\n",
    "x = np.arange(epochs)\n",
    "\n",
    "plt.plot(x, np.array(stack_auc))\n",
    "plt.xlabel('Epochs')\n",
    "plt.ylabel('AUC')\n",
    "\n",
    "plt.legend(['Stack Exchange AUC'], loc = 'upper right')\n",
    "\n",
    "plt.savefig('Hybrid_Model_Stack.png', facecolor = 'w')"
   ]
  },
  {
   "cell_type": "code",
   "execution_count": null,
   "id": "38b22a4b-2a40-4382-87f1-2dc931e3fdec",
   "metadata": {},
   "outputs": [],
   "source": []
  }
 ],
 "metadata": {
  "kernelspec": {
   "display_name": "Python 3 (ipykernel)",
   "language": "python",
   "name": "python3"
  },
  "language_info": {
   "codemirror_mode": {
    "name": "ipython",
    "version": 3
   },
   "file_extension": ".py",
   "mimetype": "text/x-python",
   "name": "python",
   "nbconvert_exporter": "python",
   "pygments_lexer": "ipython3",
   "version": "3.8.12"
  }
 },
 "nbformat": 4,
 "nbformat_minor": 5
}
