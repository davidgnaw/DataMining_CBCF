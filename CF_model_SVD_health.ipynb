{
 "cells": [
  {
   "cell_type": "code",
   "execution_count": 14,
   "id": "758a8a01-5dbf-4a11-a863-8c8f3f4b46f8",
   "metadata": {},
   "outputs": [],
   "source": [
    "import pandas as pd\n",
    "from surprise import Dataset\n",
    "from surprise import Reader\n",
    "from surprise import SVD\n",
    "from surprise.model_selection import GridSearchCV\n",
    "from surprise.model_selection import split\n",
    "from surprise import KNNWithMeans\n",
    "from surprise import accuracy\n",
    "from surprise.model_selection import cross_validate\n",
    "from sklearn import metrics\n",
    "import matplotlib\n",
    "import numpy as np\n",
    "import matplotlib.pyplot as plt\n"
   ]
  },
  {
   "cell_type": "code",
   "execution_count": 6,
   "id": "7e49832c-d1e4-40e7-9bef-aff470e468e6",
   "metadata": {},
   "outputs": [],
   "source": [
    "# implementing user based collaborative filtering under SVD\n",
    "# read in ratings.txt and documents.txt into pandas\n",
    "\n",
    "# ratings dataframe\n",
    "rating_raw = pd.read_csv('fairgrecs-dataset/ratings.txt', sep = '\\t', header = [0])\n",
    "\n",
    "rating_raw = rating_raw.truncate(50, 50000) #matching with other datasets\n",
    "\n",
    "# user features dataframe (features of keyword)\n",
    "doc_raw = pd.read_csv('fairgrecs-dataset/documents.txt', sep = '\\t', header = [0])\n",
    "\n",
    "\n",
    "\n",
    "# passing in users and items\n",
    "users = rating_raw['USER_ID'].values.flatten()\n",
    "items = rating_raw['DOCUMENT_ID'].values.flatten()\n",
    "ratings = rating_raw['RATE'].values.flatten()\n",
    "\n",
    "# passing in user features \n",
    "feature_name = doc_raw['{KEYWORDS}'].values.flatten()\n",
    "feature_value = doc_raw['DOCUMENT_ID'].values.flatten()"
   ]
  },
  {
   "cell_type": "code",
   "execution_count": 7,
   "id": "c71bd50f-5e94-4346-94ce-7b3b782caecf",
   "metadata": {},
   "outputs": [],
   "source": [
    "reader = Reader(rating_scale = (1,5))\n",
    "\n",
    "data = Dataset.load_from_df(rating_raw[['USER_ID', 'DOCUMENT_ID', 'RATE']], reader)\n",
    "\n",
    "\n"
   ]
  },
  {
   "cell_type": "code",
   "execution_count": 8,
   "id": "4ce896eb-cd56-494e-9435-6e015f97d148",
   "metadata": {},
   "outputs": [],
   "source": [
    "trainset, testset = split.train_test_split(data, test_size=0.25)"
   ]
  },
  {
   "cell_type": "code",
   "execution_count": 5,
   "id": "0b6ecc17-abdd-4a38-8ddc-8b36a6bdb281",
   "metadata": {},
   "outputs": [
    {
     "name": "stdout",
     "output_type": "stream",
     "text": [
      "Number of users:  333 \n",
      "\n",
      "Number of items:  16890 \n",
      "\n"
     ]
    }
   ],
   "source": [
    "# print user counts in train_set\n",
    "\n",
    "print('Number of users: ', trainset.n_users, '\\n')\n",
    "print('Number of items: ', trainset.n_items, '\\n')"
   ]
  },
  {
   "cell_type": "code",
   "execution_count": 24,
   "id": "27b2f928-af63-49d0-bc86-0e35e6468bcf",
   "metadata": {},
   "outputs": [],
   "source": [
    "rmse_scores = []\n",
    "AUC_scores = []\n",
    "\n",
    "total_epochs = 30\n",
    "\n",
    "for epoch in range(total_epochs): #takes a while to run\n",
    "    #train model\n",
    "    algo = SVD(n_epochs = epoch, lr_all = 0.01)\n",
    "    algo.fit(trainset)\n",
    "    \n",
    "    #test model\n",
    "    predictions = algo.test(testset)\n",
    "    \n",
    "    #cross validate\n",
    "\n",
    "    results = cross_validate(\n",
    "        algo = algo, data = data, measures=['RMSE'], \n",
    "        cv=5, return_train_measures=True\n",
    "        )\n",
    "    \n",
    "    #get actual (index 2 of predictions) and estimates (index 3 of predictions)\n",
    "\n",
    "    actual  = []\n",
    "    predicts = []\n",
    "\n",
    "    for i in range(len(predictions)):\n",
    "        actual.append(predictions[i][2])\n",
    "        predicts.append(predictions[i][3])\n",
    "\n",
    "    fpr, tpr, thresholds = metrics.roc_curve(actual, predicts, pos_label=2)\n",
    "    AUC_scores.append(metrics.auc(fpr, tpr))\n",
    "\n",
    "    rmse_scores.append(results['test_rmse'].mean())\n"
   ]
  },
  {
   "cell_type": "code",
   "execution_count": 30,
   "id": "eb8279f7-0829-4da1-9f8a-ce1e187ae8cc",
   "metadata": {},
   "outputs": [
    {
     "data": {
      "image/png": "[encoded data removed]",
      "text/plain": [
       "<Figure size 432x288 with 1 Axes>"
      ]
     },
     "metadata": {
      "needs_background": "light"
     },
     "output_type": "display_data"
    }
   ],
   "source": [
    "\n",
    "# Graph\n",
    "x = np.arange(total_epochs)\n",
    "\n",
    "plt.plot(x, np.array(AUC_scores))\n",
    "plt.xlabel('Epochs')\n",
    "plt.ylabel('AUC')\n",
    "\n",
    "plt.legend(['Health AUC'], loc = 'upper right')\n",
    "\n",
    "plt.savefig('CF_Model_SVD_Health.png', facecolor = 'w')\n"
   ]
  },
  {
   "cell_type": "code",
   "execution_count": null,
   "id": "7e8f4980-daab-4c73-b7bb-5d08af4d7b3b",
   "metadata": {},
   "outputs": [],
   "source": []
  }
 ],
 "metadata": {
  "kernelspec": {
   "display_name": "Python 3 (ipykernel)",
   "language": "python",
   "name": "python3"
  },
  "language_info": {
   "codemirror_mode": {
    "name": "ipython",
    "version": 3
   },
   "file_extension": ".py",
   "mimetype": "text/x-python",
   "name": "python",
   "nbconvert_exporter": "python",
   "pygments_lexer": "ipython3",
   "version": "3.8.12"
  }
 },
 "nbformat": 4,
 "nbformat_minor": 5
}
